{
 "cells": [
  {
   "cell_type": "code",
   "execution_count": 3,
   "id": "825ff5bf-c9a3-4f4f-82e4-9c2c2ad25458",
   "metadata": {},
   "outputs": [],
   "source": [
    "import numpy as np\n",
    "list = [ '1' , '2' , '3' , '4' , '5' ]\n",
    "array_list = np.array(object = list)"
   ]
  },
  {
   "cell_type": "markdown",
   "id": "81926647-ca8b-49db-b493-31961af829b0",
   "metadata": {},
   "source": [
    "### Q1. Is there any difference in the data type of variables list_ and array_list? If there is then write a code to print the data types of both the variables."
   ]
  },
  {
   "cell_type": "code",
   "execution_count": 4,
   "id": "39307deb-b595-4b0b-8f68-8030b4e60882",
   "metadata": {},
   "outputs": [
    {
     "data": {
      "text/plain": [
       "list"
      ]
     },
     "execution_count": 4,
     "metadata": {},
     "output_type": "execute_result"
    }
   ],
   "source": [
    "type(list)"
   ]
  },
  {
   "cell_type": "code",
   "execution_count": 5,
   "id": "8247c30c-4de5-4890-a6a0-10d85e592c80",
   "metadata": {},
   "outputs": [
    {
     "data": {
      "text/plain": [
       "numpy.ndarray"
      ]
     },
     "execution_count": 5,
     "metadata": {},
     "output_type": "execute_result"
    }
   ],
   "source": [
    "type(array_list)"
   ]
  },
  {
   "cell_type": "markdown",
   "id": "4404c808-9bbe-476d-876b-2d2cd4cc55e4",
   "metadata": {},
   "source": [
    "### list_ is a Python list containing string elements (e.g., '1', '2', '3', '4', '5').array_list is a NumPy array created from the Python list, but the elements are now NumPy's unicode string data type."
   ]
  },
  {
   "cell_type": "markdown",
   "id": "8b3e6861-b95b-4991-a71d-78fa6e67df5a",
   "metadata": {},
   "source": [
    "### Q2. Write a code to print the data type of each and every element of both the variables list_ and arra_list."
   ]
  },
  {
   "cell_type": "code",
   "execution_count": 7,
   "id": "95848d18-2b9d-4633-9e3a-aa4953b4ffa3",
   "metadata": {},
   "outputs": [
    {
     "name": "stdout",
     "output_type": "stream",
     "text": [
      "Data type of each elements in 'list' \n",
      "<class 'str'>\n",
      "<class 'str'>\n",
      "<class 'str'>\n",
      "<class 'str'>\n",
      "<class 'str'>\n",
      "Data type of each element in 'array_list' \n",
      "<class 'numpy.str_'>\n",
      "<class 'numpy.str_'>\n",
      "<class 'numpy.str_'>\n",
      "<class 'numpy.str_'>\n",
      "<class 'numpy.str_'>\n"
     ]
    }
   ],
   "source": [
    "import numpy as np\n",
    "\n",
    "list = ['1','2','3','4','5']\n",
    "array_list = np.array(object = list)\n",
    "\n",
    "print(\"Data type of each elements in 'list' \")\n",
    "for element in list:\n",
    "    print(type(element))\n",
    "    \n",
    "print(\"Data type of each element in 'array_list' \")\n",
    "for element1 in array_list:\n",
    "    print(type(element1))"
   ]
  },
  {
   "cell_type": "markdown",
   "id": "7dc7d6ad-0eac-42de-ac17-283bef485541",
   "metadata": {},
   "source": [
    "### Q3. Considering the following changes in the variable, array_list:\n",
    "### array_list = np.array(object = list, dtype = int)\n",
    "### Will there be any difference in the data type of the elements present in both the variables, list_ and arra_list? If so then print the data types of each and every element present in both the variables, list_ and arra_list."
   ]
  },
  {
   "cell_type": "code",
   "execution_count": 8,
   "id": "0c64e118-45cb-462a-b1f6-e547a460410b",
   "metadata": {},
   "outputs": [],
   "source": [
    "array_list = np.array(object = list, dtype = int)"
   ]
  },
  {
   "cell_type": "code",
   "execution_count": 9,
   "id": "b56bcec2-8f9d-41b9-87b6-4453b67f5498",
   "metadata": {},
   "outputs": [
    {
     "data": {
      "text/plain": [
       "list"
      ]
     },
     "execution_count": 9,
     "metadata": {},
     "output_type": "execute_result"
    }
   ],
   "source": [
    "type(list)"
   ]
  },
  {
   "cell_type": "code",
   "execution_count": 10,
   "id": "82c85b7f-d3f3-4091-8119-5629c606f193",
   "metadata": {},
   "outputs": [
    {
     "data": {
      "text/plain": [
       "numpy.ndarray"
      ]
     },
     "execution_count": 10,
     "metadata": {},
     "output_type": "execute_result"
    }
   ],
   "source": [
    "type(array_list)"
   ]
  },
  {
   "cell_type": "code",
   "execution_count": 11,
   "id": "d86258a4-f62e-4522-9d60-b6822b9c2428",
   "metadata": {},
   "outputs": [],
   "source": [
    "# there is no change in data type of both list and array_list |"
   ]
  },
  {
   "cell_type": "markdown",
   "id": "2e6c6c6c-6bb1-4bfc-868d-a0b386a481ae",
   "metadata": {},
   "source": [
    "### Consider the below code to answer further questions:\n",
    "### import numpy as np\n",
    "### num_list = [ [ 1 , 2 , 3 ] , [ 4 , 5 , 6 ] ]\n",
    "### num_array = np.array(object = num_list)\n",
    "### Q4. Write a code to find the following characteristics of variable, num_array:\n",
    "### (i) shape\n",
    "### (ii) size"
   ]
  },
  {
   "cell_type": "code",
   "execution_count": 12,
   "id": "70bb4b3c-a081-4392-9633-14fbcaad953c",
   "metadata": {},
   "outputs": [],
   "source": [
    "import numpy as np\n",
    "num_list = [ [ 1 , 2 , 3 ] , [ 4 , 5 , 6 ] ]\n",
    "num_array = np.array(object = num_list)"
   ]
  },
  {
   "cell_type": "code",
   "execution_count": 13,
   "id": "24d8becb-118e-46fc-b8da-9d75ae0b7a11",
   "metadata": {},
   "outputs": [
    {
     "data": {
      "text/plain": [
       "(2, 3)"
      ]
     },
     "execution_count": 13,
     "metadata": {},
     "output_type": "execute_result"
    }
   ],
   "source": [
    "num_array.shape"
   ]
  },
  {
   "cell_type": "code",
   "execution_count": 14,
   "id": "335c7499-7421-4919-a15b-4c2c93f6485d",
   "metadata": {},
   "outputs": [
    {
     "data": {
      "text/plain": [
       "6"
      ]
     },
     "execution_count": 14,
     "metadata": {},
     "output_type": "execute_result"
    }
   ],
   "source": [
    "num_array.size"
   ]
  },
  {
   "cell_type": "markdown",
   "id": "f2dffddd-4fb0-4358-8339-e16ac5697cb4",
   "metadata": {},
   "source": [
    "### Q5. Write a code to create numpy array of 3*3 matrix containing zeros only, using a numpy array creation function."
   ]
  },
  {
   "cell_type": "code",
   "execution_count": 15,
   "id": "b4f77995-b99a-4e8e-9eab-22a6089e690d",
   "metadata": {},
   "outputs": [
    {
     "data": {
      "text/plain": [
       "array([[0., 0., 0.],\n",
       "       [0., 0., 0.],\n",
       "       [0., 0., 0.]])"
      ]
     },
     "execution_count": 15,
     "metadata": {},
     "output_type": "execute_result"
    }
   ],
   "source": [
    "np.zeros((3,3))"
   ]
  },
  {
   "cell_type": "markdown",
   "id": "b47f53ff-b78f-4f57-9e12-31de20d40db3",
   "metadata": {},
   "source": [
    "### Q6. Create an identity matrix of shape (5,5) using numpy functions?"
   ]
  },
  {
   "cell_type": "code",
   "execution_count": 18,
   "id": "2c1504ab-f1dc-436e-898c-bab53effaaa5",
   "metadata": {},
   "outputs": [
    {
     "data": {
      "text/plain": [
       "array([[1., 0., 0., 0., 0.],\n",
       "       [0., 1., 0., 0., 0.],\n",
       "       [0., 0., 1., 0., 0.],\n",
       "       [0., 0., 0., 1., 0.],\n",
       "       [0., 0., 0., 0., 1.]])"
      ]
     },
     "execution_count": 18,
     "metadata": {},
     "output_type": "execute_result"
    }
   ],
   "source": [
    "np.eye(5)"
   ]
  },
  {
   "cell_type": "code",
   "execution_count": null,
   "id": "334eb4d9-4e2e-428c-b5af-7e76bd0a3631",
   "metadata": {},
   "outputs": [],
   "source": []
  }
 ],
 "metadata": {
  "kernelspec": {
   "display_name": "Python 3 (ipykernel)",
   "language": "python",
   "name": "python3"
  },
  "language_info": {
   "codemirror_mode": {
    "name": "ipython",
    "version": 3
   },
   "file_extension": ".py",
   "mimetype": "text/x-python",
   "name": "python",
   "nbconvert_exporter": "python",
   "pygments_lexer": "ipython3",
   "version": "3.10.8"
  }
 },
 "nbformat": 4,
 "nbformat_minor": 5
}
